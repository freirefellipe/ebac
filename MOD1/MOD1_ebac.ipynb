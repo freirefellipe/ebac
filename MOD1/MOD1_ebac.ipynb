{
  "nbformat": 4,
  "nbformat_minor": 0,
  "metadata": {
    "colab": {
      "provenance": []
    },
    "kernelspec": {
      "name": "python3",
      "display_name": "Python 3"
    },
    "language_info": {
      "name": "python"
    }
  },
  "cells": [
    {
      "cell_type": "markdown",
      "source": [
        "# Operações simples:"
      ],
      "metadata": {
        "id": "K4aGqUYFgMx1"
      }
    },
    {
      "cell_type": "markdown",
      "source": [
        "| Dia   | Valor Total Vendas | Qtd Total Vendas | Ticket Medio |\n",
        "|-------|--------------------|------------------|--------------|\n",
        "| 19/01 | (A)                | 3                | 320.52       |\n",
        "| 20/01 | 834.47             | (B)              | 119.21       |\n",
        "| 23/01 | 15378.12           | 5                | (C)          |"
      ],
      "metadata": {
        "id": "JZXEWDFFc4NO"
      }
    },
    {
      "cell_type": "code",
      "source": [
        "a = round(float(320.52)*3)"
      ],
      "metadata": {
        "id": "DQJm9xbPc7mq"
      },
      "execution_count": null,
      "outputs": []
    },
    {
      "cell_type": "code",
      "source": [
        "print(f'320.52*3 = {a}')"
      ],
      "metadata": {
        "colab": {
          "base_uri": "https://localhost:8080/"
        },
        "id": "cKm2wYAYdRPK",
        "outputId": "8b1c443b-799d-4271-d74d-2a01548b6062"
      },
      "execution_count": null,
      "outputs": [
        {
          "output_type": "stream",
          "name": "stdout",
          "text": [
            "320.52*3 = 962\n"
          ]
        }
      ]
    },
    {
      "cell_type": "code",
      "source": [
        "b = round(float(834.47)/119.21)"
      ],
      "metadata": {
        "id": "IPLRxwDJdpfU"
      },
      "execution_count": null,
      "outputs": []
    },
    {
      "cell_type": "code",
      "source": [
        "print(f'834.47/119.21 = {b}')"
      ],
      "metadata": {
        "colab": {
          "base_uri": "https://localhost:8080/"
        },
        "id": "MlVQTQDidzfJ",
        "outputId": "ef8b53a4-b666-4f86-b1d3-36f51957c68a"
      },
      "execution_count": null,
      "outputs": [
        {
          "output_type": "stream",
          "name": "stdout",
          "text": [
            "834.47/119.21 = 7\n"
          ]
        }
      ]
    },
    {
      "cell_type": "markdown",
      "source": [
        "# Uso do método .find() pra encontrar no texto:"
      ],
      "metadata": {
        "id": "BYhW6fKqga6k"
      }
    },
    {
      "cell_type": "code",
      "source": [
        "texto = 'Selic vai a 2.75% e supera expectativas; é a primeira alta em 6 anos.'\n",
        "\n",
        "selic_percentage = texto.find('%')\n",
        "\n",
        "selic = texto[selic_percentage - 4 : selic_percentage]\n",
        "\n",
        "anos = texto[texto.find('anos') - 3 : texto.find('anos')]\n",
        "\n",
        "print(f'A taxa Selic no momento é de {selic}% no período de {anos} anos.')\n"
      ],
      "metadata": {
        "colab": {
          "base_uri": "https://localhost:8080/"
        },
        "id": "-CUhRRVfgf1E",
        "outputId": "398bc1bf-09cd-490e-ef0b-d435209b9461"
      },
      "execution_count": 2,
      "outputs": [
        {
          "output_type": "stream",
          "name": "stdout",
          "text": [
            "A taxa Selic no momento é de 2.75% no período de  6  anos.\n"
          ]
        }
      ]
    },
    {
      "cell_type": "markdown",
      "source": [
        "# Uso dos métodos .upper(), .lower() - etc - em Strings para entre maiúsculas e minúsculas as palavras':"
      ],
      "metadata": {
        "id": "qZv80W4yF28W"
      }
    },
    {
      "cell_type": "code",
      "source": [
        "nome = str(input('Insira seu nome: ')).upper()"
      ],
      "metadata": {
        "colab": {
          "base_uri": "https://localhost:8080/"
        },
        "id": "ye68LGZQGOQd",
        "outputId": "714f05c1-af86-47bf-9ea1-578fdf178628"
      },
      "execution_count": 3,
      "outputs": [
        {
          "name": "stdout",
          "output_type": "stream",
          "text": [
            "Insira seu nome: Fellipe Freire Oliveira\n"
          ]
        }
      ]
    },
    {
      "cell_type": "code",
      "source": [
        "nome = str(input('Insira seu nome: ')).lower()"
      ],
      "metadata": {
        "colab": {
          "base_uri": "https://localhost:8080/"
        },
        "id": "eH33qGsqHDcc",
        "outputId": "1e2c90ea-2511-43f8-d678-06e884e4e086"
      },
      "execution_count": 5,
      "outputs": [
        {
          "name": "stdout",
          "output_type": "stream",
          "text": [
            "Insira seu nome: FEllipe FREIRE oliveiRa\n"
          ]
        }
      ]
    },
    {
      "cell_type": "code",
      "source": [
        "nome_completo_split = str(input('Insira seu nome: ')).split(' ')\n",
        "\n",
        "primeiro_nome = list(map(lambda i:i.capitalize(), nome_completo_split))"
      ],
      "metadata": {
        "colab": {
          "base_uri": "https://localhost:8080/"
        },
        "id": "cIgAupVVIUKx",
        "outputId": "7b71f90f-2039-47ab-9436-03d44cb0d1f4"
      },
      "execution_count": 15,
      "outputs": [
        {
          "output_type": "stream",
          "name": "stdout",
          "text": [
            "Insira seu nome: fellipe freire oliveira\n",
            "['Fellipe', 'Freire', 'Oliveira']\n"
          ]
        }
      ]
    },
    {
      "cell_type": "code",
      "source": [
        "print(primeiro_nome)"
      ],
      "metadata": {
        "id": "d4GZm4aieZfX"
      },
      "execution_count": null,
      "outputs": []
    },
    {
      "cell_type": "code",
      "source": [
        "display(f'Seja bem-vindo, {primeiro_nome[0]}.')"
      ],
      "metadata": {
        "colab": {
          "base_uri": "https://localhost:8080/",
          "height": 37
        },
        "id": "TxhEGYaVGkTa",
        "outputId": "5c3e4e38-b05c-4432-cb4a-55c404ac75f3"
      },
      "execution_count": 16,
      "outputs": [
        {
          "output_type": "display_data",
          "data": {
            "text/plain": [
              "'Seja bem-vindo, Fellipe.'"
            ],
            "application/vnd.google.colaboratory.intrinsic+json": {
              "type": "string"
            }
          },
          "metadata": {}
        }
      ]
    }
  ]
}