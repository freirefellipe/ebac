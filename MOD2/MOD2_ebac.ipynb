{
  "nbformat": 4,
  "nbformat_minor": 0,
  "metadata": {
    "colab": {
      "provenance": []
    },
    "kernelspec": {
      "name": "python3",
      "display_name": "Python 3"
    },
    "language_info": {
      "name": "python"
    }
  },
  "cells": [
    {
      "cell_type": "markdown",
      "source": [
        "# Ranking de filmes:\n",
        "Usando o método .append() para adicionar cada título"
      ],
      "metadata": {
        "id": "JPhytj1lgAhp"
      }
    },
    {
      "cell_type": "code",
      "source": [
        "filmes_lista_dicio = []\n",
        "\n",
        "filmes_lista_dicio.append({'titulo':'Um Sonho de Liberdade', 'ano':'1994', 'idade':'16', 'nota': '9.3'})\n",
        "filmes_lista_dicio.append({'titulo':'O Poderoso Chefão', 'ano':'1972', 'idade':'14', 'nota':'9.2'})\n",
        "filmes_lista_dicio.append({'titulo':'Batman: O Cavaleiro das Trevas', 'ano':'2008', 'idade':'12', 'nota':'9.0'})\n",
        "filmes_lista_dicio.append({'titulo':'O Poderoso Chefão II', 'ano':'1974', 'idade':'14', 'nota':'9.0'})\n",
        "filmes_lista_dicio.append({'titulo':'12 Homens e uma Sentença', 'ano':'1957', 'idade':'', 'nota':'9.0'})\n",
        "filmes_lista_dicio.append({'titulo':'A Lista de Schindler', 'ano':'1993', 'idade':'14', 'nota':'9.0'})\n",
        "filmes_lista_dicio.append({'titulo':'O Senhor dos Anéis: O Retorno do Rei', 'ano':'2003', 'idade':'14', 'nota':'9.0'})\n",
        "filmes_lista_dicio.append({'titulo':'Pulp Fiction - Tempo de Violência', 'ano':'1994', 'idade':'18', 'nota':'8.9'})\n",
        "filmes_lista_dicio.append({'titulo':'O Senhor dos Anéis: A Sociedade do Anel', 'ano':'2001', 'idade':'12', 'nota':'8.8'})\n",
        "filmes_lista_dicio.append({'titulo':'Três Homens em Conflito', 'ano':'1966', 'idade':'14', 'nota':'8.8'})"
      ],
      "metadata": {
        "id": "CT56fflQb9QC"
      },
      "execution_count": null,
      "outputs": []
    },
    {
      "cell_type": "code",
      "source": [
        "print(filmes_lista_dicio)"
      ],
      "metadata": {
        "colab": {
          "base_uri": "https://localhost:8080/"
        },
        "id": "xGN9r3vj2JSm",
        "outputId": "24674956-ff7f-4dd5-ea2b-7ddce24215fd"
      },
      "execution_count": null,
      "outputs": [
        {
          "output_type": "stream",
          "name": "stdout",
          "text": [
            "[{'titulo': 'Um Sonho de Liberdade', 'ano': '1994', 'idade': '16', 'nota': '9.3'}, {'titulo': 'O Poderoso Chefão', 'ano': '1972', 'idade': '14', 'nota': '9.2'}, {'titulo': 'Batman: O Cavaleiro das Trevas', 'ano': '2008', 'idade': '12', 'nota': '9.0'}, {'titulo': 'O Poderoso Chefão II', 'ano': '1974', 'idade': '14', 'nota': '9.0'}, {'titulo': '12 Homens e uma Sentença', 'ano': '1957', 'idade': '', 'nota': '9.0'}, {'titulo': 'A Lista de Schindler', 'ano': '1993', 'idade': '14', 'nota': '9.0'}, {'titulo': 'O Senhor dos Anéis: O Retorno do Rei', 'ano': '2003', 'idade': '14', 'nota': '9.0'}, {'titulo': 'Pulp Fiction - Tempo de Violência', 'ano': '1994', 'idade': '18', 'nota': '8.9'}, {'titulo': 'O Senhor dos Anéis: A Sociedade do Anel', 'ano': '2001', 'idade': '12', 'nota': '8.8'}, {'titulo': 'Três Homens em Conflito', 'ano': '1966', 'idade': '14', 'nota': '8.8'}]\n"
          ]
        }
      ]
    },
    {
      "cell_type": "markdown",
      "source": [
        "# Trabalhando inserção e remoção com dicionários:"
      ],
      "metadata": {
        "id": "WGxq48OKzjLB"
      }
    },
    {
      "cell_type": "code",
      "source": [
        "filmes_lista_dicio.insert(0, {'titulo':'Meu Filme', 'ano':'1985', 'idade':'livre', 'nota':'10'}) # inserção não remove outros itens, apenas reorganiza, \"empurrando\" os outros."
      ],
      "metadata": {
        "id": "zUdy8V0czp_o"
      },
      "execution_count": null,
      "outputs": []
    },
    {
      "cell_type": "markdown",
      "source": [
        "Ou"
      ],
      "metadata": {
        "id": "9sFJtOm_hCSQ"
      }
    },
    {
      "cell_type": "code",
      "source": [
        "filmes_lista_dicio[0] = {'titulo':'Meu Filme', 'ano':'1985', 'idade':'livre', 'nota':'10'} # dessa forma se substitui um item por outro."
      ],
      "metadata": {
        "id": "F2MTGHhkaIrm"
      },
      "execution_count": null,
      "outputs": []
    },
    {
      "cell_type": "code",
      "source": [
        "# É possível remover o último item usuando o método .pop(), inclusive impondo condições:\n",
        "# lista_filmes.pop() if len(lista_filmes) > 9 else None"
      ],
      "metadata": {
        "id": "A4FVmURWf_yg"
      },
      "execution_count": null,
      "outputs": []
    },
    {
      "cell_type": "markdown",
      "source": [
        "Caso haja erro de redundância com dois itens repetidos, é possível remover a duplicata fazendo a transformação set <-> list: (Não funciona se o item for tipo dicionário)."
      ],
      "metadata": {
        "id": "hXd53DkOlqgi"
      }
    },
    {
      "cell_type": "code",
      "source": [
        "# filmes_set_dicio = set(filmes_lista_dicio)\n",
        "# filmes_lista_dicio = list(filmes_set_dicio)"
      ],
      "metadata": {
        "colab": {
          "base_uri": "https://localhost:8080/",
          "height": 159
        },
        "collapsed": true,
        "id": "Tx-tiAUul9xb",
        "outputId": "d6871ace-3fe0-4f5a-e6f1-7b07dbfdc68d"
      },
      "execution_count": null,
      "outputs": [
        {
          "output_type": "error",
          "ename": "TypeError",
          "evalue": "unhashable type: 'dict'",
          "traceback": [
            "\u001b[0;31m---------------------------------------------------------------------------\u001b[0m",
            "\u001b[0;31mTypeError\u001b[0m                                 Traceback (most recent call last)",
            "\u001b[0;32m<ipython-input-51-0df53acb01b0>\u001b[0m in \u001b[0;36m<cell line: 1>\u001b[0;34m()\u001b[0m\n\u001b[0;32m----> 1\u001b[0;31m \u001b[0mfilmes_set_dicio\u001b[0m \u001b[0;34m=\u001b[0m \u001b[0mset\u001b[0m\u001b[0;34m(\u001b[0m\u001b[0mfilmes_lista_dicio\u001b[0m\u001b[0;34m)\u001b[0m\u001b[0;34m\u001b[0m\u001b[0;34m\u001b[0m\u001b[0m\n\u001b[0m\u001b[1;32m      2\u001b[0m \u001b[0mfilmes_lista_dicio\u001b[0m \u001b[0;34m=\u001b[0m \u001b[0mlist\u001b[0m\u001b[0;34m(\u001b[0m\u001b[0mfilmes_set_dicio\u001b[0m\u001b[0;34m)\u001b[0m\u001b[0;34m\u001b[0m\u001b[0;34m\u001b[0m\u001b[0m\n",
            "\u001b[0;31mTypeError\u001b[0m: unhashable type: 'dict'"
          ]
        }
      ]
    },
    {
      "cell_type": "code",
      "source": [
        "print(f'''\n",
        "Top 10 best movies:\n",
        "1. {filmes_lista_dicio[0]}\n",
        "2. {filmes_lista_dicio[1]}\n",
        "3. {filmes_lista_dicio[2]}\n",
        "4. {filmes_lista_dicio[3]}\n",
        "5. {filmes_lista_dicio[4]}\n",
        "6. {filmes_lista_dicio[5]}\n",
        "7. {filmes_lista_dicio[6]}\n",
        "8. {filmes_lista_dicio[7]}\n",
        "9. {filmes_lista_dicio[8]}\n",
        "10. {filmes_lista_dicio[9]}\n",
        "''')"
      ],
      "metadata": {
        "id": "pPJHsy_OimhA"
      },
      "execution_count": null,
      "outputs": []
    },
    {
      "cell_type": "markdown",
      "source": [
        "Lista com dicionários dentro é perfeito para Pandas:"
      ],
      "metadata": {
        "id": "IRgB1uTFdg39"
      }
    },
    {
      "cell_type": "code",
      "source": [
        "import pandas\n",
        "df_filmes = pandas.DataFrame(filmes_lista_dicio)\n",
        "display(df_filmes)\n",
        "display(df_filmes.info())"
      ],
      "metadata": {
        "id": "XMQfVIglcOYN"
      },
      "execution_count": null,
      "outputs": []
    }
  ]
}