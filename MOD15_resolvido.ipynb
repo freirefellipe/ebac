{
  "nbformat": 4,
  "nbformat_minor": 0,
  "metadata": {
    "colab": {
      "provenance": [],
      "authorship_tag": "ABX9TyOs+QJLB/brHEMTOUa3FMi/",
      "include_colab_link": true
    },
    "kernelspec": {
      "name": "python3",
      "display_name": "Python 3"
    },
    "language_info": {
      "name": "python"
    }
  },
  "cells": [
    {
      "cell_type": "markdown",
      "metadata": {
        "id": "view-in-github",
        "colab_type": "text"
      },
      "source": [
        "<a href=\"https://colab.research.google.com/github/freirefellipe/ebac/blob/main/MOD15_resolvido.ipynb\" target=\"_parent\"><img src=\"https://colab.research.google.com/assets/colab-badge.svg\" alt=\"Open In Colab\"/></a>"
      ]
    },
    {
      "cell_type": "markdown",
      "source": [
        "# 1. Preços *outliers* dos diamantes:\n"
      ],
      "metadata": {
        "id": "1ArJlXYmCZyf"
      }
    },
    {
      "cell_type": "code",
      "execution_count": 26,
      "metadata": {
        "colab": {
          "base_uri": "https://localhost:8080/",
          "height": 472
        },
        "id": "Jidv4m0fCIFQ",
        "outputId": "c53e0581-60ab-4d88-d902-b481a66977c9"
      },
      "outputs": [
        {
          "output_type": "display_data",
          "data": {
            "text/plain": [
              "<Figure size 640x480 with 1 Axes>"
            ],
            "image/png": "[encoded data removed]"
          },
          "metadata": {}
        }
      ],
      "source": [
        "import seaborn\n",
        "\n",
        "diamonds_ds = seaborn.load_dataset('diamonds')\n",
        "\n",
        "with seaborn.axes_style('whitegrid'):\n",
        "\n",
        "  diamonds_graph = seaborn.boxplot(x=diamonds_ds['price'])\n",
        "  diamonds_graph.set(title='Preços dos diamantes', xlabel='Preço (USD)')"
      ]
    },
    {
      "cell_type": "markdown",
      "source": [
        "**Insights**: Percebe-se, então, que a mediana de preços é de aproximadamente US 2500; com *positive skew* (ou seja, viés positivo, de maior incidência de preços acima da mediana); e que os *outliers* (valores atípicos) começam a partir do valor US 12500,0."
      ],
      "metadata": {
        "id": "U9iVOB4VG7GH"
      }
    },
    {
      "cell_type": "code",
      "source": [
        "display(diamonds_ds['price'])"
      ],
      "metadata": {
        "colab": {
          "base_uri": "https://localhost:8080/",
          "height": 225
        },
        "id": "00jZjKoVEN9c",
        "outputId": "d04194b7-0167-4cb2-d4a8-a37e9fc1c26e"
      },
      "execution_count": 27,
      "outputs": [
        {
          "output_type": "display_data",
          "data": {
            "text/plain": [
              "0         326\n",
              "1         326\n",
              "2         327\n",
              "3         334\n",
              "4         335\n",
              "         ... \n",
              "53935    2757\n",
              "53936    2757\n",
              "53937    2757\n",
              "53938    2757\n",
              "53939    2757\n",
              "Name: price, Length: 53940, dtype: int64"
            ]
          },
          "metadata": {}
        }
      ]
    },
    {
      "cell_type": "markdown",
      "source": [
        "# 2. Correlação Preço-Peso, agrupado em Transparência:"
      ],
      "metadata": {
        "id": "xEiaxTTmJusD"
      }
    },
    {
      "cell_type": "code",
      "source": [
        "import seaborn\n",
        "\n",
        "diamonds_ds = seaborn.load_dataset('diamonds')"
      ],
      "metadata": {
        "id": "e-sE-TzIKfjT"
      },
      "execution_count": 28,
      "outputs": []
    }
  ]
}