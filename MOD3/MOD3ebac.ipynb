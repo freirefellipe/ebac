{
  "nbformat": 4,
  "nbformat_minor": 0,
  "metadata": {
    "colab": {
      "provenance": []
    },
    "kernelspec": {
      "name": "python3",
      "display_name": "Python 3"
    },
    "language_info": {
      "name": "python"
    }
  },
  "cells": [
    {
      "cell_type": "markdown",
      "source": [
        "# Uso do if-else:"
      ],
      "metadata": {
        "id": "WMtgfl3M5F6w"
      }
    },
    {
      "cell_type": "code",
      "execution_count": 1,
      "metadata": {
        "id": "NfVPSengiBl_",
        "colab": {
          "base_uri": "https://localhost:8080/"
        },
        "outputId": "16b8678c-6a3a-4e72-9a24-f414a3a9c69c"
      },
      "outputs": [
        {
          "name": "stdout",
          "output_type": "stream",
          "text": [
            "Insira o PIN: 0000\n"
          ]
        }
      ],
      "source": [
        "  pin_cadastrado = '0000'\n",
        "  pin_inserido = str(input('Insira o PIN: '))"
      ]
    },
    {
      "cell_type": "code",
      "source": [
        "senha_cadastrada = 'abcde'\n",
        "senha_inserida = input('Insira a senha: ')"
      ],
      "metadata": {
        "colab": {
          "base_uri": "https://localhost:8080/"
        },
        "id": "13MAhDos_d6M",
        "outputId": "881b1f66-af66-447f-bade-642fafea61c0"
      },
      "execution_count": 2,
      "outputs": [
        {
          "name": "stdout",
          "output_type": "stream",
          "text": [
            "Insira a senha: mvnf\n"
          ]
        }
      ]
    },
    {
      "cell_type": "code",
      "source": [
        "if (pin_cadastrado == pin_inserido) and (senha_cadastrada == senha_inserida):\n",
        "  print('Pagamento efetuado com sucesso.')\n",
        "\n",
        "elif (pin_cadastrado != pin_inserido) and (senha_cadastrada == senha_inserida):\n",
        "  print('PIN incorreto.')\n",
        "\n",
        "elif (pin_cadastrado == pin_inserido) and (senha_cadastrada != senha_inserida):\n",
        "  print('Senha incorreta.')"
      ],
      "metadata": {
        "colab": {
          "base_uri": "https://localhost:8080/"
        },
        "id": "quNqE2Vf4Y3l",
        "outputId": "a15c4868-4005-4c9b-eaba-46cc6e5269ed"
      },
      "execution_count": 3,
      "outputs": [
        {
          "output_type": "stream",
          "name": "stdout",
          "text": [
            "Senha incorreta.\n"
          ]
        }
      ]
    },
    {
      "cell_type": "markdown",
      "source": [
        "# outra forma de se usar o if-else em uma só linha:"
      ],
      "metadata": {
        "id": "_OM7QBqf5hLY"
      }
    },
    {
      "cell_type": "code",
      "source": [
        "print('PIN ou senha incorreta.') if (pin_cadastrado != pin_inserido) or (senha_cadastrada != senha_inserida) else print('Pagamento efetuado com sucesso.')"
      ],
      "metadata": {
        "colab": {
          "base_uri": "https://localhost:8080/"
        },
        "id": "NtzRmYDr4azq",
        "outputId": "dff4b696-f64f-4ef5-ff22-584bfaa24615"
      },
      "execution_count": 4,
      "outputs": [
        {
          "output_type": "stream",
          "name": "stdout",
          "text": [
            "PIN ou senha incorreta.\n"
          ]
        }
      ]
    },
    {
      "cell_type": "markdown",
      "source": [
        "\n",
        "\n",
        "# Uso do Try-except-finally:"
      ],
      "metadata": {
        "id": "smVclF8d5zdG"
      }
    },
    {
      "cell_type": "code",
      "source": [
        "lista = ['zero', 'um', 'dois', 'três']\n",
        "\n",
        "try:\n",
        "  elem_escolhendo = int(input('Qual índice do elemento desejado? > '))\n",
        "  elem_escolhido = lista[elem_escolhendo]\n",
        "  print(elem_escolhido)\n",
        "except ValueError:\n",
        "  print('Só pode digitar número.')\n",
        "except IndexError:\n",
        "  print('Só pode digitar de 0 a 3.')\n",
        "except Exception as error: # a exceção genérica deve vir por último para não impedir o tratamento da exceção específica\n",
        "  display(str(error))\n",
        "  display(type(error))\n",
        "  display(error)\n",
        "finally: # acontece com ou sem exceção.\n",
        "  print('Final do código.')"
      ],
      "metadata": {
        "id": "dyQTxh1p6Lhs",
        "colab": {
          "base_uri": "https://localhost:8080/"
        },
        "outputId": "83af772f-ff5b-4c4a-dc8e-d63256bf6ff4",
        "collapsed": true
      },
      "execution_count": null,
      "outputs": [
        {
          "output_type": "stream",
          "name": "stdout",
          "text": [
            "Qual índice do elemento desejado? > 2\n",
            "dois\n",
            "Final do código.\n"
          ]
        }
      ]
    },
    {
      "cell_type": "markdown",
      "source": [
        "Se a exceção for tratada, o códgio continuará, independente do finally."
      ],
      "metadata": {
        "id": "Q8LpfRjif55f"
      }
    },
    {
      "cell_type": "markdown",
      "source": [
        "# Utilizando-se o **pass** ou **continue**, **logging** e **raise** dentro do código:"
      ],
      "metadata": {
        "id": "4RFzFRlMhs6q"
      }
    },
    {
      "cell_type": "code",
      "source": [
        "import logging # vai ser usado com Exception, para registrar o tipo do erro ocorrido.\n",
        "\n",
        "try:\n",
        "  inputvalue = int(input('Insira um valor de 1 a 100 para dividir 100: '))\n",
        "  if (inputvalue > 100):\n",
        "    raise print('denomidador maior que o numerador. Somente divisão real') # raise cria uma exceção. É possível escrever somente raise e o programa para.\n",
        "  print(100/inputvalue)\n",
        "except ZeroDivisionError as zerodiv:\n",
        "  print(str(zerodiv))\n",
        "except (ValueError, TypeError):\n",
        "  pass # ou 'continue'(possíveis, mas o recomendável é sempre explicar a exceção)\n",
        "except Exception as othererror:\n",
        "  logging.exception(othererror)\n",
        "else:\n",
        "  print('Fim do código. Nanhum erro apresentado.')"
      ],
      "metadata": {
        "id": "-i0nvyhcOb0X",
        "colab": {
          "base_uri": "https://localhost:8080/"
        },
        "collapsed": true,
        "outputId": "0f690f2e-526d-4263-83fc-6610c5e9796a"
      },
      "execution_count": null,
      "outputs": [
        {
          "output_type": "stream",
          "name": "stdout",
          "text": [
            "Insira um valor de 1 a 100 para divir 100: 2\n",
            "50.0\n",
            "Fim do código. Nanhum erro apresentado.\n"
          ]
        }
      ]
    },
    {
      "cell_type": "markdown",
      "source": [],
      "metadata": {
        "id": "nLf4y3XroS0q"
      }
    },
    {
      "cell_type": "markdown",
      "source": [
        "# Usando laço **for**-**in**:"
      ],
      "metadata": {
        "id": "aODiXRrv0I0k"
      }
    },
    {
      "cell_type": "code",
      "source": [
        "frase = '''Miyamoto Musashi Died On This Day, June 13, 1645.\n",
        "\n",
        "One of the most famous samurai of all time, Miyamoto Musashi’s reputation has grown to mythic proportions over the years,\n",
        "despite much of his life remaining a mystery. The undefeated swordsman, master of strategy, calligrapher, painter, writer and martial arts icon,\n",
        "Miyamoto Musashi was born towards the end of the warring States period. He took part in a great many battles and duels,\n",
        "created his own unique sword style and wrote one of the best known and widest read books on strategy, confrontation and victory.'''\n",
        "\n",
        "char_escolhido_1 = 'aa'\n",
        "char_escolhido_2 = 'bb'\n",
        "\n",
        "count_char_1 = 0\n",
        "count_char_2 = 0\n",
        "\n",
        "while (len(char_escolhido_1) >1) or (len(char_escolhido_2) > 1):\n",
        "  print('Insira somente um caractere para cada.')\n",
        "  char_escolhido_1 = str(input('Insira o caractere que você quer buscar na frase: '))\n",
        "  char_escolhido_2 = str(input('Insira outro caractere que você quer buscar na frase: '))\n",
        "\n",
        "for char in frase:\n",
        "  if char == char_escolhido_1:\n",
        "    count_char_1 += 1\n",
        "    print(f'Caractere {char_escolhido_1} encontrado.')\n",
        "  if char == char_escolhido_2:\n",
        "    count_char_2 += 1\n",
        "    print(f'Caractere {char_escolhido_2} encontrado.')\n",
        "\n",
        "\n",
        "print(f'''{count_char_1} vez(es) o \"{char_escolhido_1}\", e {count_char_2} vez(es) o \"{char_escolhido_2}\" no texto: \\n {frase}''')"
      ],
      "metadata": {
        "colab": {
          "base_uri": "https://localhost:8080/"
        },
        "id": "iuacmhMn0Tig",
        "outputId": "751d6d91-bdfb-48ed-cc21-e2bcbef260d0",
        "collapsed": true
      },
      "execution_count": 18,
      "outputs": [
        {
          "output_type": "stream",
          "name": "stdout",
          "text": [
            "Insira somente um caractere para cada.\n",
            "Insira o caractere que você quer buscar na frase: 3\n",
            "Insira outro caractere que você quer buscar na frase: w\n",
            "Caractere 3 encontrado.\n",
            "Caractere w encontrado.\n",
            "Caractere w encontrado.\n",
            "Caractere w encontrado.\n",
            "Caractere w encontrado.\n",
            "Caractere w encontrado.\n",
            "Caractere w encontrado.\n",
            "Caractere w encontrado.\n",
            "Caractere w encontrado.\n",
            "Caractere w encontrado.\n",
            "Caractere w encontrado.\n",
            "Caractere w encontrado.\n",
            "1 vez(es) o \"3\", e 11 vez(es) o \"w\" no texto: \n",
            " Miyamoto Musashi Died On This Day, June 13, 1645. \n",
            "\n",
            "One of the most famous samurai of all time, Miyamoto Musashi’s reputation has grown to mythic proportions over the years, \n",
            "despite much of his life remaining a mystery. The undefeated swordsman, master of strategy, calligrapher, painter, writer and martial arts icon, \n",
            "Miyamoto Musashi was born towards the end of the warring States period. He took part in a great many battles and duels, \n",
            "created his own unique sword style and wrote one of the best known and widest read books on strategy, confrontation and victory.\n"
          ]
        }
      ]
    },
    {
      "cell_type": "markdown",
      "source": [
        "# Laço **for**-**in** com dicionários:"
      ],
      "metadata": {
        "id": "OOhX6XMNuk8-"
      }
    },
    {
      "cell_type": "markdown",
      "source": [
        "Forma preferível..."
      ],
      "metadata": {
        "id": "FXXQJI8sye72"
      }
    },
    {
      "cell_type": "code",
      "source": [
        "credito = {'123':748, '456':629,'789':367}\n",
        "\n",
        "for chave, valor in credito.items(): # .items() cria uma lista sendo cada elemento da lista um parêntese contendo respectivamente a chave e o valor separados por vírgula: [(chave, valor),(chave, valor)]\n",
        "  print(f'O valor da chave {chave} é {valor}')"
      ],
      "metadata": {
        "colab": {
          "base_uri": "https://localhost:8080/"
        },
        "collapsed": true,
        "id": "TT6ROuofpPQu",
        "outputId": "2a6a493f-6b40-46d9-e21e-df5cdf1d37ea"
      },
      "execution_count": 30,
      "outputs": [
        {
          "output_type": "stream",
          "name": "stdout",
          "text": [
            "O valor da chave 123 é 748\n",
            "O valor da chave 456 é 629\n",
            "O valor da chave 789 é 367\n"
          ]
        }
      ]
    },
    {
      "cell_type": "markdown",
      "source": [
        "Outra forma de fazer, sem o .items() é a seguinte:"
      ],
      "metadata": {
        "id": "SM3K7J3fu9IZ"
      }
    },
    {
      "cell_type": "code",
      "source": [
        "credito = {'123':748, '456':629,'789':367}\n",
        "\n",
        "for chave in credito.keys(): # em dicionários, é possível assim como o .keys(), o .values() para buscar os valores.\n",
        "  print(f'O valor da chave {chave} é {credito[chave]}')"
      ],
      "metadata": {
        "colab": {
          "base_uri": "https://localhost:8080/"
        },
        "id": "KcEMOqlDvFXV",
        "outputId": "9a054ecd-ae09-45cf-9234-06aae295780d"
      },
      "execution_count": 29,
      "outputs": [
        {
          "output_type": "stream",
          "name": "stdout",
          "text": [
            "O valor da chave 123 é 748\n",
            "O valor da chave 456 é 629\n",
            "O valor da chave 789 é 367\n"
          ]
        }
      ]
    },
    {
      "cell_type": "markdown",
      "source": [
        "# Podemeos fazer laços com contagem, utilizando o **range**, **break** e **continue**:"
      ],
      "metadata": {
        "id": "R3GQAqA2pDls"
      }
    },
    {
      "cell_type": "code",
      "source": [
        "for count in range(2, 2000, 2):\n",
        "  print(count)\n",
        "\n",
        "  if count >= 20:\n",
        "    break\n",
        "  else:\n",
        "    continue\n",
        "    print('Esse print não vai ser executado, uma vez que o continue faz o programa ir para a próxima iteração')"
      ],
      "metadata": {
        "colab": {
          "base_uri": "https://localhost:8080/"
        },
        "collapsed": true,
        "id": "LUZ99rQJzApd",
        "outputId": "fc743265-f6b4-433b-d4cd-b6ec1196d177"
      },
      "execution_count": 2,
      "outputs": [
        {
          "output_type": "stream",
          "name": "stdout",
          "text": [
            "2\n",
            "4\n",
            "6\n",
            "8\n",
            "10\n",
            "12\n",
            "14\n",
            "16\n",
            "18\n",
            "20\n"
          ]
        }
      ]
    }
  ]
}