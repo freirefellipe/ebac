{
  "nbformat": 4,
  "nbformat_minor": 0,
  "metadata": {
    "colab": {
      "provenance": []
    },
    "kernelspec": {
      "name": "python3",
      "display_name": "Python 3"
    },
    "language_info": {
      "name": "python"
    }
  },
  "cells": [
    {
      "cell_type": "markdown",
      "source": [
        "# Trabalhando com funções **def**:"
      ],
      "metadata": {
        "id": "VMc6wm4gLteD"
      }
    },
    {
      "cell_type": "code",
      "source": [
        "def Rendimento(investimento: float, meses: int, taxa: float):\n",
        "\n",
        "  for i in range(meses): # o parâmetro de contagem será o tempo em questão\n",
        "    print(round(investimento, 2))\n",
        "    rendimento_mensal = investimento * taxa\n",
        "    investimento += rendimento_mensal\n",
        "\n",
        "  print(round(investimento, 2))\n",
        "\n",
        "investimento, meses, taxa = float(input('Qual será o investimento inicial? R$')), int(input('Quantos meses de rendimento você estima? ')), float(input('Qual a taxa de rendimento mensal que se aplica? '))\n",
        "\n",
        "Rendimento(investimento, meses, taxa)\n"
      ],
      "metadata": {
        "colab": {
          "base_uri": "https://localhost:8080/"
        },
        "collapsed": true,
        "id": "Kb0QR9xA80tT",
        "outputId": "78a5a5c7-0494-42ab-b243-9c2c9bafae52"
      },
      "execution_count": 2,
      "outputs": [
        {
          "output_type": "stream",
          "name": "stdout",
          "text": [
            "Qual será o investimento inicial? R$10000\n",
            "Quantos meses de rendimento você estima? 12\n",
            "Qual a taxa de rendimento mensal que se aplica? 0.03\n",
            "10000.0\n",
            "10300.0\n",
            "10609.0\n",
            "10927.27\n",
            "11255.09\n",
            "11592.74\n",
            "11940.52\n",
            "12298.74\n",
            "12667.7\n",
            "13047.73\n",
            "13439.16\n",
            "13842.34\n",
            "14257.61\n"
          ]
        }
      ]
    },
    {
      "cell_type": "markdown",
      "source": [
        "Outro exemplo:"
      ],
      "metadata": {
        "id": "xmTXZFmBFW4C"
      }
    },
    {
      "cell_type": "code",
      "source": [
        "def minusculo(palavra: str) -> str: # É importante informar o tipo de dado a receber e a retornar (indicado pela seta)\n",
        "  palavra = palavra.lower()\n",
        "  return palavra\n",
        "\n",
        "print(minusculo(palavra='FELLIPE'))\n"
      ],
      "metadata": {
        "colab": {
          "base_uri": "https://localhost:8080/"
        },
        "id": "DVTDxe3vFafx",
        "outputId": "33637a69-88fe-4f9a-e02b-085b239ae98a"
      },
      "execution_count": 3,
      "outputs": [
        {
          "output_type": "stream",
          "name": "stdout",
          "text": [
            "fellipe\n"
          ]
        }
      ]
    },
    {
      "cell_type": "code",
      "source": [
        "with open (file='emails.csv', mode='r', encoding='utf8') as localfile:\n",
        "  line = localfile.readline().split(';')\n",
        "  while line:\n",
        "    if len(line) < 2: # avoids the except when there's no next line.\n",
        "      break # breaks the loop, carrying on with the code.\n",
        "    email = line[0]\n",
        "    username = email.split('@')[0]\n",
        "    domain = email.split('@')[1]\n",
        "    phone = line[1]\n",
        "    if domain == 'gmail.com':\n",
        "      print(f'{username.capitalize()} está no domínio {domain}, nº de telefone {phone}')\n",
        "    line = localfile.readline().split(';')\n",
        "\n",
        "print('Programa finalizado')\n"
      ],
      "metadata": {
        "colab": {
          "base_uri": "https://localhost:8080/"
        },
        "collapsed": true,
        "id": "Wq7o__XFM1D2",
        "outputId": "ad00c278-332d-46f7-db49-62ddb0c9dc04"
      },
      "execution_count": 4,
      "outputs": [
        {
          "output_type": "stream",
          "name": "stdout",
          "text": [
            "Aragorn está no domínio gmail.com, nº de telefone 82 192839586\n",
            "\n",
            "Inara está no domínio gmail.com, nº de telefone 83 475669998\n",
            "\n",
            "Kobaiashi está no domínio gmail.com, nº de telefone 82 339098877\n",
            "\n",
            "Programa finalizado\n"
          ]
        }
      ]
    },
    {
      "cell_type": "markdown",
      "source": [
        "Outra forma de se fazer é:"
      ],
      "metadata": {
        "id": "uefd8_3Nq225"
      }
    },
    {
      "cell_type": "code",
      "source": [
        "with open (file='emails.csv', mode='r', encoding='utf8') as locale:\n",
        "  for linea in locale:\n",
        "      emails = list(map(lambda linea : linea.split(';')[0], locale))\n",
        "      print(emails)\n",
        "      usernames = list(map(lambda email : email.split('@')[0], emails))\n",
        "      print(usernames)\n"
      ],
      "metadata": {
        "colab": {
          "base_uri": "https://localhost:8080/"
        },
        "id": "JVLAB1ZznRb3",
        "outputId": "17b7f37d-0b2c-483c-f4b2-97f299158526"
      },
      "execution_count": 5,
      "outputs": [
        {
          "output_type": "stream",
          "name": "stdout",
          "text": [
            "['obi-wan@outlook.com', 'inara@gmail.com', 'anabia@outlook.com', 'lanister@outlook.com', 'kobaiashi@gmail.com', 'katsumoto@outlook.com']\n",
            "['obi-wan', 'inara', 'anabia', 'lanister', 'kobaiashi', 'katsumoto']\n"
          ]
        }
      ]
    },
    {
      "cell_type": "markdown",
      "source": [
        "Ou diretamente:"
      ],
      "metadata": {
        "id": "W1sH_VgiLOJC"
      }
    },
    {
      "cell_type": "code",
      "source": [
        "with open (file='emails.csv', mode='r', encoding='utf8') as locale:\n",
        "  for linea in locale:\n",
        "      usernames = list(map(lambda email : email.split('@')[0], list(map(lambda linea : linea.split(';')[0], locale))))\n",
        "      print(usernames)\n"
      ],
      "metadata": {
        "colab": {
          "base_uri": "https://localhost:8080/"
        },
        "id": "OoAuYzyQKzO6",
        "outputId": "dfec7a63-10bd-43cd-fec9-b826ca117fb5"
      },
      "execution_count": 6,
      "outputs": [
        {
          "output_type": "stream",
          "name": "stdout",
          "text": [
            "['obi-wan', 'inara', 'anabia', 'lanister', 'kobaiashi', 'katsumoto']\n"
          ]
        }
      ]
    },
    {
      "cell_type": "markdown",
      "source": [
        "Sugestão do GOOGLE/Gemini:"
      ],
      "metadata": {
        "id": "057aqnU_nSmu"
      }
    },
    {
      "cell_type": "code",
      "source": [
        "with open (file='emails.csv', mode='r', encoding='utf8') as locale:\n",
        "  for linea in locale: # esse método sem lambda\n",
        "    linea = linea.strip().split(';')# sobre a linha que vai ser lida\n",
        "    if len(linea) >= 2: # condição para se não houver linha não estourar exceção com relação a index\n",
        "      email = linea[0]\n",
        "      username, domain = email.split('@') # cada variável vai ficar com um elemento dos dois da var 'email'\n",
        "      phone = linea[1]\n",
        "    else:\n",
        "      pass\n"
      ],
      "metadata": {
        "id": "eQLLhlvqq-WE"
      },
      "execution_count": 7,
      "outputs": []
    },
    {
      "cell_type": "markdown",
      "source": [
        "Função com parâmetro:"
      ],
      "metadata": {
        "id": "VTV8nWtBY4ho"
      }
    },
    {
      "cell_type": "code",
      "source": [
        "def csv_it (name: str, header: str, conteudo: list) -> bool:\n",
        "  try:\n",
        "    with open(file=name, mode='w', encoding='utf8') as local:\n",
        "      local.write(header + '\\n')\n",
        "      for ogni in conteudo:\n",
        "        local.write(ogni + '\\n') # o prof. André Sanchez antes escreve o conteúdo da linha em uma variável e a insere entre os parênteses.\n",
        "    return True\n",
        "  except Exception as err:\n",
        "    print(err)\n",
        "    return False\n",
        "\n",
        "csv_it(name='usernames.csv', header='usernames', conteudo=usernames)"
      ],
      "metadata": {
        "id": "_wDgwt6nZUrp",
        "colab": {
          "base_uri": "https://localhost:8080/"
        },
        "outputId": "b0362249-6b52-4fc0-c872-f44d0a4759e3"
      },
      "execution_count": 8,
      "outputs": [
        {
          "output_type": "execute_result",
          "data": {
            "text/plain": [
              "True"
            ]
          },
          "metadata": {},
          "execution_count": 8
        }
      ]
    },
    {
      "cell_type": "markdown",
      "source": [
        "Outra forma de se fazer, utilizando **input**:"
      ],
      "metadata": {
        "id": "1nHejzCg_wZM"
      }
    },
    {
      "cell_type": "code",
      "source": [
        "name = str(input('Nome do documento (sem incluir o formato): ')) + str('.csv')\n",
        "header = str(input('Nome do cabeçalho: ')).lower()\n",
        "csv_it(name, header, emails)"
      ],
      "metadata": {
        "colab": {
          "base_uri": "https://localhost:8080/"
        },
        "id": "cFKgLgdltlEs",
        "outputId": "1689a795-eee3-4805-f8a3-06506d02fd81"
      },
      "execution_count": 10,
      "outputs": [
        {
          "name": "stdout",
          "output_type": "stream",
          "text": [
            "Nome do documento (sem incluir o formato): emails\n",
            "Nome do cabeçalho: emails\n"
          ]
        },
        {
          "output_type": "execute_result",
          "data": {
            "text/plain": [
              "True"
            ]
          },
          "metadata": {},
          "execution_count": 10
        }
      ]
    },
    {
      "cell_type": "markdown",
      "source": [
        "\n",
        "\n",
        "---\n",
        "\n"
      ],
      "metadata": {
        "id": "pp_lqnrifCv_"
      }
    },
    {
      "cell_type": "markdown",
      "source": [
        "# Documentos utilizados na atividade:"
      ],
      "metadata": {
        "id": "xlo3BhvmLite"
      }
    },
    {
      "cell_type": "code",
      "source": [
        "%%writefile emails.csv\n",
        "aragorn@gmail.com;82 192839586\n",
        "obi-wan@outlook.com;82 859487756\n",
        "inara@gmail.com;83 475669998\n",
        "anabia@outlook.com;87 226480765\n",
        "lanister@outlook.com;81 887493824\n",
        "kobaiashi@gmail.com;82 339098877\n",
        "katsumoto@outlook.com;84 182236786"
      ],
      "metadata": {
        "colab": {
          "base_uri": "https://localhost:8080/"
        },
        "id": "W15URonCFBU2",
        "outputId": "b2b129ef-ac08-4b89-e68b-7dc4feb32871"
      },
      "execution_count": 1,
      "outputs": [
        {
          "output_type": "stream",
          "name": "stdout",
          "text": [
            "Writing emails.csv\n"
          ]
        }
      ]
    }
  ]
}