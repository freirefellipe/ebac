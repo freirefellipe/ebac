{
  "nbformat": 4,
  "nbformat_minor": 0,
  "metadata": {
    "colab": {
      "provenance": []
    },
    "kernelspec": {
      "name": "python3",
      "display_name": "Python 3"
    },
    "language_info": {
      "name": "python"
    }
  },
  "cells": [
    {
      "cell_type": "code",
      "execution_count": 1,
      "metadata": {
        "colab": {
          "base_uri": "https://localhost:8080/"
        },
        "id": "-juJCds08eJK",
        "outputId": "fafff335-5b02-4be5-d805-7d058f2b5146"
      },
      "outputs": [
        {
          "output_type": "stream",
          "name": "stdout",
          "text": [
            "1000.0\n"
          ]
        }
      ],
      "source": [
        "import math\n",
        "\n",
        "potencia = math.pow(10, 3)\n",
        "\n",
        "print(potencia)\n"
      ]
    },
    {
      "cell_type": "code",
      "source": [
        "import math\n",
        "\n",
        "arredondar = 1648.6\n",
        "\n",
        "print(math.ceil(arredondar)) # arredonda para cima\n",
        "print(math.floor(arredondar)) # arredonda para baixo\n",
        ""
      ],
      "metadata": {
        "colab": {
          "base_uri": "https://localhost:8080/"
        },
        "id": "INMVDniR-rRd",
        "outputId": "aaac768a-37ab-4ff9-9762-f83ae489f9fa"
      },
      "execution_count": 3,
      "outputs": [
        {
          "output_type": "stream",
          "name": "stdout",
          "text": [
            "1649\n",
            "1648\n"
          ]
        }
      ]
    },
    {
      "cell_type": "code",
      "source": [
        "from time import time, sleep\n",
        "\n",
        "sleep(5) # vai esperar cinco segundos para continuar o script\n",
        "print(time()) # O resultado da execução é uma série de números que faz sentido para o computador\n"
      ],
      "metadata": {
        "colab": {
          "base_uri": "https://localhost:8080/"
        },
        "id": "-fH-xI3S_7qV",
        "outputId": "240683e7-95df-4187-d560-e94c84a76097"
      },
      "execution_count": 5,
      "outputs": [
        {
          "output_type": "stream",
          "name": "stdout",
          "text": [
            "1723825623.6773283\n"
          ]
        }
      ]
    },
    {
      "cell_type": "code",
      "source": [
        "from datetime import datetime\n",
        "\n",
        "a = datetime.now()\n",
        "b = datetime.now().day\n",
        "c = datetime.now().year # nçao pode juntar day com year.\n",
        "\n",
        "print(a, b, c)\n",
        "print(a)\n",
        "print(b)\n",
        "print(c)"
      ],
      "metadata": {
        "colab": {
          "base_uri": "https://localhost:8080/"
        },
        "id": "t9vcD5gQBrlD",
        "outputId": "64540aa1-6ece-4bcd-f615-e3c78b4aaade"
      },
      "execution_count": 10,
      "outputs": [
        {
          "output_type": "stream",
          "name": "stdout",
          "text": [
            "2024-08-16 16:35:17.031743 16 2024\n",
            "2024-08-16 16:35:17.031743\n",
            "16\n",
            "2024\n"
          ]
        }
      ]
    }
  ]
}